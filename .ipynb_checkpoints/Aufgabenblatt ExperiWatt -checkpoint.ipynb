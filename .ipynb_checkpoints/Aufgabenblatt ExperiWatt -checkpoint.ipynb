{
 "cells": [
  {
   "cell_type": "markdown",
   "id": "1497ff34",
   "metadata": {},
   "source": [
    "## ExperiWatt - Gehirn und Energie\n",
    "In diesem Arbeitsblatt lernt ihr eigenständig eine vollständige Bearbeitung, Visualisierung und Analyse von euren eigenen EEG Daten durchzuführen. Dafür benötigen wir einige Funktionen des Python Softwarepackages MNE. In dem Dokument **\"MNE Funktionen\"** findet ihr eine Liste an Funktionen die ihr dafür braucht.\n",
    "\n",
    "Der Programmcode in den grau hinterlegten Felder kann durch die Tastenkomination \"Strg\" + \"Enter\" ausgeführt werden. Sie enhält außerdem **Kommentare** (gekennzeichnet durch das # -Symbol), die euch Hinweise dazu geben, welche Funktion ihr für die jeweilige Aufgabe verwenden müsst. \n",
    "Funktionen sind Programmstücke die eine bestimmte Aufgabe erfüllen. Hier ist ein Beispiel: `plot_signal(raw, start=0, end=None, electrodes=range(24)):`. Diese Funktion hat den Namen `plot_signal` und nimmt die Parameter `raw` (Daten), `start`, `end` und `electrodes`. Schaut euch beim Verwenden der Funktionen gut an welche Parameter diese Funktion braucht um zu funktionieren. Drei Punkte `...` geben euch einen Tipp wo ihr eigene Werte einsetzen müsst. \n",
    "\n",
    "An der Punkteanzahl die ihr für jede Aufgabe bekommt könnt ihr den Schwierigkeitsgrad der Aufgabe abschätzen. Steht dort keine Punktzahl, ist der Programmcode schon fertig und ihr müsst ihn lediglich ausführen. \n",
    "\n",
    "Gliederung:\n",
    "1) EEG Daten laden\n",
    "\n",
    "2) Elektroden Montage Mapping \n",
    "\n",
    "3) Daten Betrachtung\n",
    "\n",
    "4) Frequenz Power Spektrum Betrachtung\n",
    "\n",
    "5) Preprocessing (Säubern der Daten)\n"
   ]
  },
  {
   "cell_type": "code",
   "execution_count": 3,
   "id": "b59487a0-b455-466c-ad8c-dd096a9d999b",
   "metadata": {},
   "outputs": [],
   "source": [
    "# zunächst importieren wir das MNE Package und weitere hilfreiche Programme, damit wir sie verwenden können\n",
    "import mne \n",
    "from mne import viz\n",
    "from mne.io import RawArray\n",
    "from mne.preprocessing import ICA\n",
    "from mne_icalabel import label_components\n",
    "from pyprep.find_noisy_channels import find_bad_by_ransac\n",
    "import matplotlib.pyplot as plt\n",
    "import numpy as np\n",
    "from meegkit.detrend import detrend\n",
    "from meegkit.dss import dss_line\n",
    "import pandas as pd"
   ]
  },
  {
   "cell_type": "code",
   "execution_count": 4,
   "id": "0f6c881a-6766-4032-a5f9-9edc60469fdf",
   "metadata": {},
   "outputs": [],
   "source": [
    "# Hilfreiche Funktionen (ihr könnt sie ersteinmal ignorieren)\n",
    "def plot_signal(raw, start=0, end=None, electrodes=range(24)):\n",
    "    sfreq = int(raw.info['sfreq'])\n",
    "    start = start*sfreq\n",
    "    if not end:\n",
    "        end = raw.get_data().shape[1]\n",
    "    else: \n",
    "        end = end*sfreq\n",
    "        \n",
    "    plt.plot(raw.times[start:end], raw.get_data()[electrodes, start:end].T*1e6, linewidth=0.4)\n",
    "    plt.xlabel('Time [s]')\n",
    "    plt.ylabel('Voltage [muV]')\n",
    "    plt.title('Activity')\n",
    "    plt.show()\n",
    "\n",
    "def threshold_electrode(raw, threshold):\n",
    "    '''\n",
    "    threshold: value in µV\n",
    "    '''\n",
    "\n",
    "    # load electrode names \n",
    "    electrode_names = np.asarray(raw.info['ch_names'])\n",
    "    \n",
    "    # Find the electrode(s) over threshold\n",
    "    electrodes_above_threshold = np.any(raw.get_data() > threshold*1e-6, axis=1)\n",
    "    \n",
    "    # Print the index(es) of the electrode(s)\n",
    "    electrode_indices = np.where(electrodes_above_threshold)[0]\n",
    "    print(f\"Electrode(s) with values above {threshold}: Name {np.array(electrode_names[electrode_indices])}\")\n",
    "    \n",
    "def detrend_baselines(raw):\n",
    "    X = raw.get_data().T # transpose so the data is organized time-by-channels\n",
    "    X, _, _ = detrend(X, order=1)\n",
    "    X, _, _ = detrend(X, order=6)\n",
    "    raw._data = X.T  # overwrite raw data\n",
    "    raw.set_eeg_reference('average', projection=True)  #compute the reference\n",
    "\n",
    "def detect_bad_channels(raw, corr_thresh=0.75):\n",
    "    bads, _ = find_bad_by_ransac(\n",
    "         data = raw.get_data(),\n",
    "         sample_rate = raw.info['sfreq'],\n",
    "         complete_chn_labs = np.asarray(raw.info['ch_names']),\n",
    "         chn_pos = np.stack([ch['loc'][0:3] for ch in raw.info['chs']]),\n",
    "         exclude = [],\n",
    "         corr_thresh = corr_thresh\n",
    "         )    \n",
    "    return bads\n",
    "\n",
    "def remove_bad_channels(bads, raw):\n",
    "    raw_copy = raw.copy()\n",
    "    raw_copy.info['bads'] = bads\n",
    "    raw_copy.interpolate_bads()\n",
    "    raw_copy.set_eeg_reference('average', projection=True)  #compute the reference\n",
    "    raw_copy.apply_proj()\n",
    "    \n",
    "    return raw_copy \n",
    "\n",
    "def compare_power_plot(raw_passive, raw_active, fmin, fmax): \n",
    "\n",
    "    sfreq = reconst_raw_passive.info['sfreq']\n",
    "    psds_passive, freqs = mne.time_frequency.psd_array_welch(raw_passive.get_data(), sfreq=sfreq, fmin=fmin, fmax=fmax, average='mean')\n",
    "    psds_active, freqs = mne.time_frequency.psd_array_welch(raw_active.get_data(), sfreq=sfreq, fmin=fmin, fmax=fmax, average='mean')\n",
    "\n",
    "    # Umrechnen in bezibel (µV²/Hz)\n",
    "    db_psds_passive = 10 * np.log10(psds_passive / (1e-6)**2)\n",
    "    db_psds_active = 10 * np.log10(psds_active / (1e-6)**2)\n",
    "\n",
    "    fig,(ax1,ax2) = plt.subplots(ncols=2)\n",
    "\n",
    "    im,cm = viz.plot_topomap(np.mean(db_psds_passive,1), reconst_raw_passive.info, axes=ax1, show=False)\n",
    "    im,cm = viz.plot_topomap(np.mean(db_psds_active,1), reconst_raw_active.info, axes=ax2,show=False)\n",
    "    ax1.set_title('Passive')\n",
    "    ax2.set_title('Active')\n",
    "\n",
    "    # Position der colorbar\n",
    "    ax_x_start = 0.95\n",
    "    ax_x_width = 0.04\n",
    "    ax_y_start = 0.1\n",
    "    ax_y_height = 0.9\n",
    "\n",
    "    cbar_ax = fig.add_axes([ax_x_start, ax_y_start, ax_x_width, ax_y_height])\n",
    "    clb = fig.colorbar(im, cax=cbar_ax)\n",
    "    clb.ax.set_title(\"Energy\",fontsize=8) # title on top of colorbar"
   ]
  },
  {
   "cell_type": "markdown",
   "id": "6959690d",
   "metadata": {},
   "source": [
    "### 1) EEG Daten laden\n",
    "Um unsere Daten einsehen zu können müssen wir sie in unser Notebook laden. Danach können wir bereits einen ersten Blick auf die Daten werfen! Denke an sinnvolle Variablen benennung."
   ]
  },
  {
   "cell_type": "markdown",
   "id": "50e8d4a2",
   "metadata": {},
   "source": [
    "**2 Punkte**"
   ]
  },
  {
   "cell_type": "code",
   "execution_count": 5,
   "id": "f1bb5ca8",
   "metadata": {},
   "outputs": [
    {
     "name": "stdout",
     "output_type": "stream",
     "text": [
      "Opening raw data file Experiment/output_data/sub-16_ses-sleepy.fif...\n",
      "Isotrak not found\n",
      "    Range : 0 ... 149701 =      0.000 ...   299.402 secs\n",
      "Ready.\n"
     ]
    },
    {
     "name": "stderr",
     "output_type": "stream",
     "text": [
      "C:\\Users\\gross\\AppData\\Local\\Temp\\ipykernel_41436\\3515624210.py:8: RuntimeWarning: This filename (Experiment/output_data/sub-16_ses-sleepy.fif) does not conform to MNE naming conventions. All raw files should end with raw.fif, raw_sss.fif, raw_tsss.fif, _meg.fif, _eeg.fif, _ieeg.fif, raw.fif.gz, raw_sss.fif.gz, raw_tsss.fif.gz, _meg.fif.gz, _eeg.fif.gz or _ieeg.fif.gz\n",
      "  raw_passive = mne.io.read_raw_fif(fdir+fname_passive, preload=True)\n"
     ]
    },
    {
     "name": "stdout",
     "output_type": "stream",
     "text": [
      "Reading 0 ... 149701  =      0.000 ...   299.402 secs...\n",
      "Opening raw data file Experiment/output_data/sub-16_ses-power.fif...\n",
      "Isotrak not found\n",
      "    Range : 0 ... 147925 =      0.000 ...   295.850 secs\n",
      "Ready.\n",
      "Reading 0 ... 147925  =      0.000 ...   295.850 secs...\n"
     ]
    },
    {
     "name": "stderr",
     "output_type": "stream",
     "text": [
      "C:\\Users\\gross\\AppData\\Local\\Temp\\ipykernel_41436\\3515624210.py:9: RuntimeWarning: This filename (Experiment/output_data/sub-16_ses-power.fif) does not conform to MNE naming conventions. All raw files should end with raw.fif, raw_sss.fif, raw_tsss.fif, _meg.fif, _eeg.fif, _ieeg.fif, raw.fif.gz, raw_sss.fif.gz, raw_tsss.fif.gz, _meg.fif.gz, _eeg.fif.gz or _ieeg.fif.gz\n",
      "  raw_active = mne.io.read_raw_fif(fdir+fname_active, preload=True)\n"
     ]
    }
   ],
   "source": [
    "# Gebt an Stelle der '...' den Namen der Datei ein, die ihr bearbeiten wollte. \n",
    "# Es ist die \"fif\" Datei, die ihr bei der Datenerhebung gespeichert habt\n",
    "fdir = 'Experiment/output_data/'\n",
    "fname_passive = 'sub-16_ses-sleepy.fif'\n",
    "fname_active = 'sub-16_ses-power.fif'\n",
    "\n",
    "# Lade die Datei. In MNE werden EEG Datensätze im \"Raw\" format gespeichert.\n",
    "raw_passive = mne.io.read_raw_fif(fdir+fname_passive, preload=True)\n",
    "raw_active = mne.io.read_raw_fif(fdir+fname_active, preload=True)\n",
    "\n",
    "# Lösche die ersten 10 sekunden, da die Teilnehmer in der Zeit ihren Blick auf das Fixierungs-Kreuz gerichtet haben\n",
    "start_time = 10\n",
    "_ = raw_passive.crop(tmin=start_time)\n",
    "_ = raw_active.crop(tmin=start_time)"
   ]
  },
  {
   "attachments": {
    "grafik.png": {
     "image/png": "[encoded data removed]"
    }
   },
   "cell_type": "markdown",
   "id": "5167cea5",
   "metadata": {},
   "source": [
    "### 2) Elektroden Montage Mapping\n",
    "Das Softwarepackage MNE ermöglicht es uns mit einer standardisierten Map die EEG Aktivität auf die richtige Stelle auf dem Kopf zu projezieren. Die folgende Abbildung zeigt wie die Montage für das EEG System aussehen sollte.\n",
    "Die Standardmontage heißt `standard_1020`.\n",
    "<div>\n",
    "<img src=\"attachment:grafik.png\" width=\"300\"/>\n",
    "</div>"
   ]
  },
  {
   "cell_type": "markdown",
   "id": "3ad47f7a",
   "metadata": {},
   "source": [
    "**1 Punkt**  "
   ]
  },
  {
   "cell_type": "code",
   "execution_count": 6,
   "id": "cd979aff",
   "metadata": {},
   "outputs": [
    {
     "data": {
      "image/png": "[encoded data removed]",
      "text/plain": [
       "<Figure size 460.8x460.8 with 1 Axes>"
      ]
     },
     "metadata": {
      "needs_background": "light"
     },
     "output_type": "display_data"
    }
   ],
   "source": [
    "# Standardmontage laden und an Datensatz zufügen\n",
    "montage = mne.channels.make_standard_montage('standard_1020')\n",
    "raw_active.set_montage(montage)\n",
    "raw_passive.set_montage(montage)\n",
    "\n",
    "# Erstelle ein Plot der Standard Montage und vergleiche sie mit der obigen Abbildung. \n",
    "fig = raw_active.plot_sensors(show_names=True)"
   ]
  },
  {
   "cell_type": "markdown",
   "id": "c1336757",
   "metadata": {},
   "source": [
    "Kontrolliere ob die geladene Montage der Abbildung oben entspricht. "
   ]
  },
  {
   "cell_type": "markdown",
   "id": "9f32db5d",
   "metadata": {},
   "source": [
    "### 3) Daten Betrachtung"
   ]
  },
  {
   "cell_type": "markdown",
   "id": "a7be042d",
   "metadata": {},
   "source": [
    "Verschaffe dir einen ersten Blick in die Daten. Erstelle einen Plot der EEG Daten von 5 Kanälen über 5 Sekunden. Starte von Sekunde 10."
   ]
  },
  {
   "cell_type": "markdown",
   "id": "f26fe8c8",
   "metadata": {},
   "source": [
    "**3 Punkte**"
   ]
  },
  {
   "cell_type": "code",
   "execution_count": null,
   "id": "964ceb4d",
   "metadata": {},
   "outputs": [],
   "source": [
    "# Verwende dazu die mne function \"plot()\"\n",
    "plot_signal(raw_passive, start=10, end=15, electrodes=['Fz', 'F3', 'Pz', 'P3'])"
   ]
  },
  {
   "cell_type": "markdown",
   "id": "ac227960-2813-4ae9-b47b-68d29f0afe96",
   "metadata": {},
   "source": [
    "Falls ihr eine Elektrode (oder mehrere) entdeckt die viel höhere Werte hat als alle anderen und extrem fluktuiert, solltet ihr herausfinden welche es ist... Kanäle mit sehr schlechten Signal werden wir direkt entfernen. Später werden wir aber eine zusätzliche Analyse durchführen, um weitere schlechte Kanäle herauszufiltern. "
   ]
  },
  {
   "cell_type": "code",
   "execution_count": null,
   "id": "1a5188c0-ed99-4798-9318-23c68c34d4c2",
   "metadata": {},
   "outputs": [],
   "source": [
    "# Dazu könnte ihr die Funktion \"threshold_electrode()\" verwenden\n",
    "# Sie gibt an welche Elektrode über einen bestimmten Wert (threshold) gestiegen ist.\n",
    "threshold_electrode(raw_active, threshold=...)"
   ]
  },
  {
   "cell_type": "markdown",
   "id": "d4877201",
   "metadata": {},
   "source": [
    "Diese Elektrode(n) könnt ihr im folgenden Schritt entfernen. Verwendet dazu die Funktion `remove_bad_channels()` und füllt für den Parameter `bads` die Namen der Elektroden mit sehr schlechtem Signal ein. ACHTUNG: Entfernt hier nur die Kanäle bei denen ihr euch sicher seid, dass sie kein gutes Signal messen konnten. Falls die Messung gut gelaufen ist, ist es gut möglich, dass ihr hier gar keine Elektrode entfernen müsst.   "
   ]
  },
  {
   "cell_type": "code",
   "execution_count": null,
   "id": "e3f57666-c15b-4a3f-95dc-80f12625991d",
   "metadata": {},
   "outputs": [],
   "source": [
    "# Entferne Kanäle die keine Aktivität zeigen \n",
    "raw_passive = remove_bad_channels(bads=[...], raw_passive)\n",
    "\n",
    "# Entferne Kanäle die keine Aktivität zeigen \n",
    "raw_active = remove_bad_channels(bads=[...], raw_active)"
   ]
  },
  {
   "attachments": {
    "grafik.png": {
     "image/png": "[encoded data removed]"
    }
   },
   "cell_type": "markdown",
   "id": "b15ecae1",
   "metadata": {},
   "source": [
    "### 4) Frequenz Power Spektrum\n",
    "EEG Daten sind aus Signalen von verschiedenen Frequenzen zusammengesetzt. Jede Frequenz trägt unterschiedlich viel zur gesamten Leistung des Signals bei. In diesem Aufgabenteil wollen herausfinden welche Frequenzen in unseren EEG Daten am stärksten vertreten sind. Mit Hilfe der sogenannten Fourier Analyse ist es möglich die Amplituden (auch Power denisity genannt) jeder Frequenz des EEG Signals herauszufinden. Der resultierende Graph wird auch Power Spektrum genannt.\n",
    "\n",
    "In der folgenden Abbildung seht ihr wie ein typisches EEG Spektrum ausseht.\n",
    "\n",
    "\n",
    "<div>\n",
    "<img src=\"attachment:grafik.png\" width=\"300\"/>\n",
    "</div>\n",
    "\n",
    "Todo:\n",
    "Verwendet die `plot_psd()` Funktion (welche im Hintergrund die Fourier Analyse durchführt) um das Power Spektrum euer Daten zu berechnen, und gebt verschiedene Werte für `fmin` und `fmax` ein (niedrigste und höchste Frequenz). Vergleicht euer Spektrum mit dem obigen Beispiel (achtet auf die x-Achse) und beschreibt was ihr seht."
   ]
  },
  {
   "cell_type": "code",
   "execution_count": null,
   "id": "c9c683f4",
   "metadata": {},
   "outputs": [],
   "source": [
    "# Um einen solchen plot zu erstellen verwende die function \"plot_psd()\"\n",
    "# Verwende als niedrigste Frequenz 1Hz und als höchste Frequenz 100Hz. \n",
    "# Führe dies für beide Datensets aus, das aktive und pas passive. \n",
    "raw_active.plot_psd(...)\n",
    "plt.show()"
   ]
  },
  {
   "cell_type": "markdown",
   "id": "d6b886b0",
   "metadata": {},
   "source": [
    "### 5) Preprocessing\n",
    "Die mit der EEG Kappe gemessene Aktivität ist leider nicht reine Gehirnaktivität. Da die Elektroden in der Kappe sehr sensitiv sind nehmen sie auch jede andere Veränderung von elektrischem Potenzial wahr. \n",
    "Wir werden die folgenden Rauschfaktoren Schritt für Schritt aus dem Signal entfernen:\n",
    "\n",
    "5.1) Kanäle mit unzreichendem Signal\n",
    "\n",
    "5.2) Augenblinzeln, Herzschlag und andere Muskelstörfaktoren\n",
    "\n",
    "5.3) Stromleitungen"
   ]
  },
  {
   "cell_type": "code",
   "execution_count": null,
   "id": "602086b5-c9c3-46ee-a869-5e31c2a05df2",
   "metadata": {},
   "outputs": [],
   "source": [
    "# Führt erst ein Downsampling der Datendurch, so reduziert ihr die Datenpunkte - dann geht das Bearbeiten schneller!\n",
    "resample_freq = 200\n",
    "_ = raw_active.resample(resample_freq)\n",
    "_ = raw_passive.resample(resample_freq)"
   ]
  },
  {
   "cell_type": "markdown",
   "id": "c765732e-948a-4eeb-9b90-5ad59bf4e35c",
   "metadata": {},
   "source": [
    "#### 5.1) Kanäle mit unzreichendem Signal behandeln\n",
    "\n",
    "Es ist möglich, dass einige Elektroden/Kanäle die Gehirnaktivität nicht richtig messen konnten und unbrauchbar sind - bei Trockenelektroden ist es normal, dass dies circa 20% der Kanäle sind. Wir müssen herausfinden welche Kanäle btroffen sind, um sie aus unserem Datenset zu entfernen. Dafür könnt ihr die Funktion `detect_bad_channels()` verwenden. Bei dieser Methode wird die Aktivität eines Kanals durch seine Nachbarkanäle vorhergesagt. Diese Vorhersage wird mit der echten Aktivität verglichen. Einen Kanal mit schlechtem Signal erkennt man daran, dass dieser auf Grund von vielen Störfaktoren nicht vorhergesagt werden kann.\n",
    "\n",
    "Notiere welche Kanäle detektiert wurden und schaue ob diese mit den Kanälen übereinstimmen, die euch während der Datenerhebung bereits als unzureichend aufgefallen sind.\n"
   ]
  },
  {
   "cell_type": "code",
   "execution_count": null,
   "id": "6801f17a-eb03-41f3-abfa-b72dad4f6dfa",
   "metadata": {},
   "outputs": [],
   "source": [
    "# Finde Kanäle mit schlechtem signal \n",
    "bads_passive = detect_bad_channels(raw_passive, corr_thresh=0.75)\n",
    "print(bads_passive)\n",
    "bads_active = detect_bad_channels(raw_active, corr_thresh=0.75)\n",
    "print(bads_active)"
   ]
  },
  {
   "cell_type": "code",
   "execution_count": null,
   "id": "6a85daaf",
   "metadata": {},
   "outputs": [],
   "source": [
    "# Die Funktion \"remove_bad_channels()\" füllt die \"Löcher\" der gelöschten Kanäle durch Interpolieren der benachbarten Kanäle.\n",
    "raw_passive_cleaned = remove_bad_channels(bads_passive, raw_passive)\n",
    "raw_active_cleaned = remove_bad_channels(bads_active, raw_active)"
   ]
  },
  {
   "cell_type": "markdown",
   "id": "70937e6b",
   "metadata": {},
   "source": [
    "**1 Punkt**"
   ]
  },
  {
   "cell_type": "code",
   "execution_count": null,
   "id": "4e46d5bb",
   "metadata": {},
   "outputs": [],
   "source": [
    "# Schaut euch das Signal noch einmal an und notiert was euch auffällt\n",
    "plot_signal(raw_passive_cleaned, start=..., end=..., electrodes=...)"
   ]
  },
  {
   "cell_type": "markdown",
   "id": "f560f529-d270-4ac3-b342-9a47234c8e3e",
   "metadata": {},
   "source": [
    "#### 5.2) Baseline Correction\n",
    "Manche Kanäle\\Elektroden weisen durch Bewegung oder Zustand der Kopfhaut (e.g. durch Schwitzen) flukturierende Hintergrundaktivität auf und müssen entfernt werden. Verwende hierzu die Funktion `detrend_baselines()`"
   ]
  },
  {
   "cell_type": "markdown",
   "id": "b345e296",
   "metadata": {},
   "source": [
    "**2 Punkte**"
   ]
  },
  {
   "cell_type": "code",
   "execution_count": null,
   "id": "dc1531ce-2ffc-40ff-b903-db5e691aa80a",
   "metadata": {},
   "outputs": [],
   "source": [
    "# Verwende die Funktion \"detrend_baselines()\" um die Aktivität um die Baseline um die 0 mV zu bringen. \n",
    "# Als einzigen Parameter (in die Klammern der Funktion) müsst ihr die Daten eingeben. \n",
    "# Dies muss für beide Datensätze (Aktive und Passive) durchgeführt werden.\n",
    "detrend_baselines(...)\n",
    "detrend_baselines(...)"
   ]
  },
  {
   "cell_type": "markdown",
   "id": "93e5fdbb",
   "metadata": {},
   "source": [
    "**1 Punkt**"
   ]
  },
  {
   "cell_type": "code",
   "execution_count": null,
   "id": "61786d40-ef3d-4a51-b4ee-73f0ac06da11",
   "metadata": {},
   "outputs": [],
   "source": [
    "# Schaue dir an wie die Daten jetzt aussehen\n",
    "plot_signal(..., start=..., end=..., electrodes=range(24))\n",
    "plot_signal(..., start=..., end=..., electrodes=range(24))"
   ]
  },
  {
   "cell_type": "markdown",
   "id": "000c794d",
   "metadata": {},
   "source": [
    "#### 5.3) Störungen durch Stromleitungen\n",
    "Beim Betrachten des Power Density Spectrums ist euch sicher ein starke Spitze um 50Hz aufgefallen. Das sind die Wechselstromleitungen die von den EEG Elektroden aufgezeichnet werden. Damit wir dieses Signal loswerden können und dabei möglichst wenig der gemessenen Gehirnaktivität löschen, verwenden wir den sogenannten ZapLine Algorithmus. Dieser wurde in der Funktion `dss_line()` implementiert. Achtet darauf die richtige Frequenz der Stromleitung einzugeben. Passe außerdem den Parameter 'nremove' an, jenach Stärke des Störsignals. Je höher der Wert desto stärker die Filter-Wirkung"
   ]
  },
  {
   "cell_type": "code",
   "execution_count": null,
   "id": "26cbf8c4",
   "metadata": {},
   "outputs": [],
   "source": [
    "# Verwende \"dss_line()\" für das \"passive\" Datenset ...\n",
    "X_zapline_passive, noise = dss_line(raw_passive_cleaned.get_data().T, fline=50, sfreq=raw_passive_cleaned.info['sfreq'], nremove=12)\n",
    "raw_passive_zapline = RawArray(X_zapline_passive.T, raw_passive_cleaned.info)\n",
    "\n",
    "# ... und für das \"aktive\"\n",
    "X_zapline_active, noise = dss_line(raw_active_cleaned.get_data().T, fline=50, sfreq=raw_active_cleaned.info['sfreq'], nremove=12)\n",
    "raw_active_zapline = RawArray(X_zapline_active.T, raw_active_cleaned.info)"
   ]
  },
  {
   "cell_type": "code",
   "execution_count": null,
   "id": "a8a0ada0",
   "metadata": {},
   "outputs": [],
   "source": [
    "# Kontrolliere das Ergebnis indem du das \"neue\" Power Spectrum plottest. Falls du noch einen Peak bei 50Hz siest, \n",
    "# erhöhe den Wert für \"nremove\" in der \"dss_line()\" Funktion\n",
    "raw_passive_zapline.plot_psd(0, 100)\n",
    "plt.show()\n",
    "\n",
    "raw_active_zapline.plot_psd(0, 100)\n",
    "plt.show()"
   ]
  },
  {
   "cell_type": "code",
   "execution_count": null,
   "id": "a29815c6-0c0f-42f4-ba21-fda682a01222",
   "metadata": {},
   "outputs": [],
   "source": [
    "# Filtere außerdem die 0.5Hz Leitung aus dem Signal\n",
    "raw_passive_filtered = raw_passive_zapline.copy()\n",
    "_ = raw_passive_filtered.filter(l_freq=1, h_freq=None)\n",
    "raw_active_filtered = raw_active_zapline.copy()\n",
    "_ = raw_active_filtered.filter(l_freq=1, h_freq=None)"
   ]
  },
  {
   "cell_type": "markdown",
   "id": "959d7e0b-57f9-427b-9063-33b7c93afb71",
   "metadata": {},
   "source": [
    "#### 4) Augenblinzeln, Herzschlag und andere Muskelstörfaktoren\n",
    "In diesem Abschnitt werden wir Störfaktoren wie Augenblinzeln und den Herzschlag aufspüren, wofür wir die sogenannte Independent Component Analysis (ICA) verwenden werden. Diese Analysemethode macht es möglich individuelle Störfaktoren aufzuspüren, die auf verschiedene Kanäle verteil sein können."
   ]
  },
  {
   "cell_type": "code",
   "execution_count": null,
   "id": "5472627b-9d10-4068-94bc-78bfeb4783f6",
   "metadata": {},
   "outputs": [],
   "source": [
    "# Verwende ICA - passive\n",
    "ica_passive = ICA(n_components=10, max_iter=\"auto\", random_state=97)\n",
    "_ = ica_passive.fit(raw_passive_filtered)\n",
    "\n",
    "# active\n",
    "ica_active = ICA(n_components=10, max_iter=\"auto\", random_state=97)\n",
    "_ = ica_active.fit(raw_active_filtered)"
   ]
  },
  {
   "cell_type": "code",
   "execution_count": null,
   "id": "56a99d0f-7ae6-4fd3-8b19-66174c98d1da",
   "metadata": {},
   "outputs": [],
   "source": [
    "explained_var_ratio = ica_passive.get_explained_variance_ratio(\n",
    "    raw_passive_filtered, components=[3], ch_type=\"eeg\"\n",
    ")\n",
    "# This time, print as percentage.\n",
    "ratio_percent = round(100 * explained_var_ratio[\"eeg\"])\n",
    "print(\n",
    "    f\"Fraction of variance in EEG signal explained by first component: \"\n",
    "    f\"{ratio_percent}%\"\n",
    ")"
   ]
  },
  {
   "cell_type": "code",
   "execution_count": null,
   "id": "97777971-3818-4263-88de-09d3ede01efb",
   "metadata": {},
   "outputs": [],
   "source": [
    "ica_active.plot_sources(raw_active_filtered, show_scrollbars=False)\n",
    "plt.show()"
   ]
  },
  {
   "cell_type": "code",
   "execution_count": null,
   "id": "82be66ea-a19b-4b0e-88b0-70ee30efb2b3",
   "metadata": {},
   "outputs": [],
   "source": [
    "ica_passive.plot_sources(raw_passive_filtered, show_scrollbars=False)\n",
    "plt.show()"
   ]
  },
  {
   "cell_type": "markdown",
   "id": "1a29305a-a6e0-43fe-9450-984bdffa7ff8",
   "metadata": {},
   "source": [
    "Findet heraus was für ein Signal hinter den Komponenten steckt - Gehirnaktivität, Augenzwinkern, Herzschlag, oder Rauschen. Verwendet dafür die Funktion `label_components()`"
   ]
  },
  {
   "cell_type": "code",
   "execution_count": null,
   "id": "6ddc3c54-660f-4da2-b4ae-93151a415d05",
   "metadata": {},
   "outputs": [],
   "source": [
    "ic_labels_passive = label_components(raw_passive_filtered, ica_passive, method=\"iclabel\")\n",
    "ic_labels_active = label_components(raw_active_filtered, ica_active, method=\"iclabel\")"
   ]
  },
  {
   "cell_type": "code",
   "execution_count": null,
   "id": "50cab5c2-67a1-4ded-af33-2f6e8012308f",
   "metadata": {},
   "outputs": [],
   "source": [
    "print(ic_labels_passive[\"labels\"])\n",
    "print(ic_labels_active[\"labels\"])"
   ]
  },
  {
   "cell_type": "code",
   "execution_count": null,
   "id": "85ebdce1",
   "metadata": {},
   "outputs": [],
   "source": [
    "# entferne nun alle ICA Komponenten, die nicht als \"brain\" oder \"other\" klassifiziert wurden. \n",
    "labels_passive = ic_labels_passive[\"labels\"]\n",
    "labels_active = ic_labels_active[\"labels\"]\n",
    "exclude_idx_passive = [\n",
    "    idx for idx, label in enumerate(labels_passive) if label not in [\"brain\", \"other\"]\n",
    "]\n",
    "exclude_idx_active = [\n",
    "    idx for idx, label in enumerate(labels_active) if label not in [\"brain\", \"other\"]\n",
    "]\n",
    "print(f\"Excluding these ICA components: {exclude_idx_passive}\")\n",
    "print(f\"Excluding these ICA components: {exclude_idx_active}\")"
   ]
  },
  {
   "cell_type": "code",
   "execution_count": null,
   "id": "566174c0-12ae-4d79-9b53-94d639f87738",
   "metadata": {},
   "outputs": [],
   "source": [
    "reconst_raw_passive = raw_passive_filtered.copy()\n",
    "_ = ica_passive.apply(reconst_raw_passive, exclude=exclude_idx_passive)\n",
    "\n",
    "reconst_raw_active = raw_active_filtered.copy()\n",
    "_ = ica_active.apply(reconst_raw_active, exclude=exclude_idx_active)"
   ]
  },
  {
   "cell_type": "markdown",
   "id": "fbdf5fb5-7e58-4417-bf70-7e49a227a9e1",
   "metadata": {},
   "source": [
    "Betrachtet die Daten noch einmal nach dem ihr die Preprocessing Schritte durchgeführt habt. Was hat sich verändert? "
   ]
  },
  {
   "cell_type": "code",
   "execution_count": null,
   "id": "6c2d31d0",
   "metadata": {},
   "outputs": [],
   "source": [
    "reconst_raw_active.plot()"
   ]
  },
  {
   "cell_type": "code",
   "execution_count": null,
   "id": "09ecb36d-003b-489b-b723-e7ec5f7a14bf",
   "metadata": {},
   "outputs": [],
   "source": [
    "# Schaut euch an wie die Daten vorher aussehen\n",
    "plot_signal(reconst_raw_active, electrodes=range(24))\n",
    "plot_signal(reconst_raw_passive, electrodes=range(24))"
   ]
  },
  {
   "cell_type": "markdown",
   "id": "3a5e13f3-b147-44c3-bb48-4f5caa7b87a4",
   "metadata": {},
   "source": [
    "### Topography"
   ]
  },
  {
   "cell_type": "markdown",
   "id": "0645cc3d",
   "metadata": {},
   "source": [
    "Als nächstes wollen wir sehen wie die gemessene Aktivität über die Elektroden (welche verschiedene Bereiche des Gehirns messen) verteilt ist. Da wir im obigen Schritt die Elektrodenposition bereits mit den Daten gelinkt haben, können wir die Aktivität nun für die ganze EEG Kappe grafisch darstellen.   \n",
    "\n",
    "Dafür müssen wir uns erst einen Zeitpunkt aussuchen den wir betrachten wollen."
   ]
  },
  {
   "cell_type": "code",
   "execution_count": null,
   "id": "521fe59f",
   "metadata": {},
   "outputs": [],
   "source": [
    "%matplotlib notebook "
   ]
  },
  {
   "cell_type": "code",
   "execution_count": null,
   "id": "41413677",
   "metadata": {},
   "outputs": [],
   "source": [
    "evoked = mne.EvokedArray(np.array(reconst_raw_passive.get_data()), raw_passive_filtered.info)\n",
    "times = np.arange(0.05, 0.151, 0.01)\n",
    "evoked.animate_topomap(times=times, ch_type=\"eeg\", frame_rate=2, blit=False)"
   ]
  },
  {
   "cell_type": "code",
   "execution_count": null,
   "id": "b9081b19",
   "metadata": {},
   "outputs": [],
   "source": [
    "# wähle einen Zeitpunkt (in Sekunden)\n",
    "zeitpunkt = 100\n",
    "topography_data_active = np.array(reconst_raw_active.get_data())[:, zeitpunkt]\n",
    "topography_data_passive = np.array(reconst_raw_passive.get_data())[:, zeitpunkt]\n",
    "\n",
    "# Erstelle einen Topographie Plot\n",
    "viz.plot_topomap(topography_data_active, raw_active.info)\n",
    "viz.plot_topomap(topography_data_passive, raw_passive.info)\n",
    "plt.show()"
   ]
  },
  {
   "cell_type": "code",
   "execution_count": null,
   "id": "e9cfae3f-50fd-4624-ba7d-2365defdc4c1",
   "metadata": {},
   "outputs": [],
   "source": [
    "fig = plt.figure(figsize=(10,2))\n",
    "plt.plot(freqs, 10 * np.log10(psds.T / (1e-6)**2))\n",
    "plt.show()"
   ]
  },
  {
   "cell_type": "code",
   "execution_count": null,
   "id": "e777d568",
   "metadata": {},
   "outputs": [],
   "source": [
    "# Begutachte das Frequenzspektrum \n",
    "reconst_raw_active.plot_psd(show=False, average=True)\n",
    "reconst_raw_passive.plot_psd(show=False, average=True)\n",
    "plt.show()"
   ]
  },
  {
   "cell_type": "code",
   "execution_count": null,
   "id": "9d91fd61",
   "metadata": {},
   "outputs": [],
   "source": [
    "np.min(reconst_raw_passive.compute_psd(average='mean').get_data().T)"
   ]
  },
  {
   "cell_type": "markdown",
   "id": "8ec88a0e",
   "metadata": {},
   "source": [
    "### Energieverbrauch berechnen\n",
    "Da wir jetzt wissen wie viel power jede Frequenz hat, können wir die gesamte Power von allen Frequenzen berechnen. "
   ]
  },
  {
   "cell_type": "code",
   "execution_count": null,
   "id": "87d5b881",
   "metadata": {},
   "outputs": [],
   "source": [
    "freqs[15]"
   ]
  },
  {
   "cell_type": "code",
   "execution_count": null,
   "id": "125fc95f",
   "metadata": {},
   "outputs": [],
   "source": [
    "sfreq = reconst_raw_passive.info['sfreq']\n",
    "psds_passive, freqs = mne.time_frequency.psd_array_welch(reconst_raw_passive.get_data(), sfreq=sfreq, fmin=1, fmax=100, average='mean')\n",
    "psds_active, freqs = mne.time_frequency.psd_array_welch(reconst_raw_active.get_data(), sfreq=sfreq, fmin=1, fmax=100, average='mean')\n",
    "\n",
    "# Umrechnen in bezibel (µV²/Hz)\n",
    "db_psds_passive = 10 * np.log10(psds_passive / (1e-6)**2)\n",
    "db_psds_active = 10 * np.log10(psds_active / (1e-6)**2)\n",
    "\n",
    "energy_passive = np.sum(np.mean(db_psds_passive[:,15:45],0)**2)\n",
    "energy_active =  np.sum(np.mean(db_psds_active[:,15:45],0)**2)\n",
    "print(\"energy passive\", energy_passive)\n",
    "print(\"energy active\", energy_active)"
   ]
  },
  {
   "cell_type": "code",
   "execution_count": null,
   "id": "9b8bc617",
   "metadata": {},
   "outputs": [],
   "source": [
    "total_power_passive = np.sum(np.mean(psds_passive,0)**2)\n",
    "total_power_active = np.sum(np.mean(psds_active,0)**2)\n",
    "print(\"total power passive\", total_power_passive)\n",
    "print(\"total power active\", total_power_active)"
   ]
  },
  {
   "cell_type": "code",
   "execution_count": null,
   "id": "960e327d",
   "metadata": {},
   "outputs": [],
   "source": [
    "plt.plot(freqs, np.mean(db_psds_passive, 0), label='passive')\n",
    "plt.plot(freqs, np.mean(db_psds_active, 0), label='active')\n",
    "plt.legend()"
   ]
  },
  {
   "cell_type": "code",
   "execution_count": null,
   "id": "f1dda225-f1fe-4d49-ac31-c77fe0e0ed43",
   "metadata": {},
   "outputs": [],
   "source": []
  },
  {
   "cell_type": "code",
   "execution_count": null,
   "id": "f0baa94d",
   "metadata": {},
   "outputs": [],
   "source": [
    "compare_power_plot(reconst_raw_passive, reconst_raw_active, 55, 75)"
   ]
  },
  {
   "cell_type": "code",
   "execution_count": null,
   "id": "07801b2c-30f9-4f23-92c7-3b4703d1f963",
   "metadata": {},
   "outputs": [],
   "source": [
    "# Integriere das Power Spektrum beider Datensätze\n",
    "active_aplha = reconst_raw_active.copy().filter(8,10)\n",
    "integrated_active = np.sum(active_aplha.get_data()**2, 1)\n",
    "viz.plot_topomap(integrated_active, active_aplha.info)"
   ]
  },
  {
   "cell_type": "code",
   "execution_count": null,
   "id": "41ef1e43-4638-4993-aa2a-3ffdc5fb0f9a",
   "metadata": {},
   "outputs": [],
   "source": [
    "# Integriere das Power Spektrum beider Datensätze\n",
    "passive_aplha = reconst_raw_passive.copy().filter(8,10)\n",
    "integrated_passive = np.sum(passive_aplha.get_data()**2, 1)\n",
    "viz.plot_topomap(integrated_passive, passive_aplha.info)"
   ]
  },
  {
   "cell_type": "code",
   "execution_count": null,
   "id": "c4b25251-1703-4783-b93f-359ad8ee79cf",
   "metadata": {},
   "outputs": [],
   "source": [
    "reconst_active_aplha = reconst_raw_active.copy().filter(8,10)\n",
    "integrated_active = np.sum(active_aplha.get_data()**2, 1)\n",
    "viz.plot_topomap(integrated_active, reconst_active_aplha.info)"
   ]
  },
  {
   "cell_type": "code",
   "execution_count": null,
   "id": "7133e412-8633-4a93-b8ab-fac099dd0708",
   "metadata": {},
   "outputs": [],
   "source": [
    "integrated_passive"
   ]
  }
 ],
 "metadata": {
  "kernelspec": {
   "display_name": "Python 3 (ipykernel)",
   "language": "python",
   "name": "python3"
  },
  "language_info": {
   "codemirror_mode": {
    "name": "ipython",
    "version": 3
   },
   "file_extension": ".py",
   "mimetype": "text/x-python",
   "name": "python",
   "nbconvert_exporter": "python",
   "pygments_lexer": "ipython3",
   "version": "3.9.12"
  }
 },
 "nbformat": 4,
 "nbformat_minor": 5
}
