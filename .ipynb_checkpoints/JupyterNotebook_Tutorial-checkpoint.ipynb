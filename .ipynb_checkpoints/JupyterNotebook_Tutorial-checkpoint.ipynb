{
 "cells": [
  {
   "cell_type": "markdown",
   "id": "cc8f77f5",
   "metadata": {},
   "source": [
    "### Was ist ein Jupyter Notebook?\n",
    "In einem Jupyter Notebook kann man Code in der Programmiersprache Python schreiben und ausführen, sowie Daten visualisieren. \n",
    "Das Besondere an Jupyter Notebook ist, dass der Code und die Beschreibung des Codes in unabhängige Zellen geschrieben werden, so dass einzelne Codeblöcke individuell ausgeführt werden können. \n",
    "Es gibt also zwei verschiedene Arten von Zellen:\n",
    "- Code Zellen\n",
    "- Beschreibungszellen (\"Markdown\"-Zellen)"
   ]
  },
  {
   "cell_type": "markdown",
   "id": "ae615401",
   "metadata": {},
   "source": [
    "## Aufgaben"
   ]
  },
  {
   "cell_type": "markdown",
   "id": "8e6f0889",
   "metadata": {},
   "source": [
    "<div class='alert alert-warning'>\n",
    "    <b>ToDo</b> (1 Punkt): Verwende die print() Funktion um den Text 'ExperiWatt!' darzustellen.\n",
    "</div> "
   ]
  },
  {
   "cell_type": "code",
   "execution_count": null,
   "id": "f87ffc93",
   "metadata": {},
   "outputs": [],
   "source": [
    "print('...')"
   ]
  },
  {
   "cell_type": "markdown",
   "id": "2d4d52f8",
   "metadata": {},
   "source": [
    "<div class='alert alert-warning'>\n",
    "    <b>ToDo</b> (1 Punkt): Schreibe \"Hallo\" in die folgende Zeile.\n",
    "</div> "
   ]
  },
  {
   "cell_type": "markdown",
   "id": "96db7a93",
   "metadata": {},
   "source": [
    "Schreibe hier: \"...\""
   ]
  },
  {
   "cell_type": "markdown",
   "id": "1e37b6c1",
   "metadata": {},
   "source": [
    "## Kommentare\n"
   ]
  },
  {
   "cell_type": "markdown",
   "id": "72aa464e",
   "metadata": {},
   "source": [
    "<div class='alert alert-success'>\n",
    "    <b>Tipp</b>: Kommentare starten mit einem \"#\", wie zum Beispiel so:\n",
    "</div>"
   ]
  },
  {
   "cell_type": "code",
   "execution_count": null,
   "id": "f0800bcb",
   "metadata": {},
   "outputs": [],
   "source": [
    "# Dies ist ein Kommentar"
   ]
  },
  {
   "cell_type": "markdown",
   "id": "f8f32cf0",
   "metadata": {},
   "source": [
    "### Funktionen"
   ]
  },
  {
   "cell_type": "code",
   "execution_count": null,
   "id": "6ff94653",
   "metadata": {},
   "outputs": [],
   "source": [
    "def zähle_buchstaben(text):\n",
    "    '''\n",
    "    Die Funktion zeigt einen Text.\n",
    "    @param text: Text, der ausgeprintet wird\n",
    "    '''\n",
    "    print('Wort:', text, '\\nAnzahl Buchstaben:', len(text))"
   ]
  },
  {
   "cell_type": "code",
   "execution_count": null,
   "id": "490a5eb8",
   "metadata": {},
   "outputs": [],
   "source": [
    "zähle_buchstaben('ExperiWatt')"
   ]
  },
  {
   "cell_type": "markdown",
   "id": "5886f5d5",
   "metadata": {},
   "source": [
    "Quellen:\n",
    "- https://www.elab2go.de/demo-py1/\n"
   ]
  }
 ],
 "metadata": {
  "kernelspec": {
   "display_name": "Python 3 (ipykernel)",
   "language": "python",
   "name": "python3"
  },
  "language_info": {
   "codemirror_mode": {
    "name": "ipython",
    "version": 3
   },
   "file_extension": ".py",
   "mimetype": "text/x-python",
   "name": "python",
   "nbconvert_exporter": "python",
   "pygments_lexer": "ipython3",
   "version": "3.9.12"
  }
 },
 "nbformat": 4,
 "nbformat_minor": 5
}
