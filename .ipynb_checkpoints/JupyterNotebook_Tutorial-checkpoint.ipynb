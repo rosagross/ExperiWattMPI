{
 "cells": [
  {
   "cell_type": "markdown",
   "id": "17c35218",
   "metadata": {},
   "source": [
    "### Was ist ein Jupyter Notebook?\n",
    "In einem Jupyter Notebook kann man Code in der Programmiersprache Python schreiben und ausführen, sowie Daten visualisieren. \n",
    "Das Besondere an Jupyter Notebook ist, dass der Code und die Beschreibung des Codes in unabhängige Zellen geschrieben werden, so dass einzelne Codeblöcke individuell ausgeführt werden können. \n",
    "Es gibt also zwei verschiedene Arten von Zellen:\n",
    "- Code Zellen\n",
    "- Beschreibungszellen (\"Markdown\"-Zellen)"
   ]
  },
  {
   "cell_type": "code",
   "execution_count": 1,
   "id": "ef4cd45d",
   "metadata": {},
   "outputs": [
    {
     "name": "stdout",
     "output_type": "stream",
     "text": [
      "ExperiWatt!\n"
     ]
    }
   ],
   "source": [
    "print('ExperiWatt!')"
   ]
  },
  {
   "cell_type": "markdown",
   "id": "8e58ef5e",
   "metadata": {},
   "source": [
    "Kommentare starten mit einem \"#\", wie zum Beispiel so:"
   ]
  },
  {
   "cell_type": "code",
   "execution_count": 3,
   "id": "3209a320",
   "metadata": {},
   "outputs": [],
   "source": [
    "# Dies ist ein Kommentar"
   ]
  },
  {
   "cell_type": "markdown",
   "id": "4aaceea9",
   "metadata": {},
   "source": [
    "### Daten typen\n"
   ]
  },
  {
   "cell_type": "code",
   "execution_count": null,
   "id": "18cf809e",
   "metadata": {},
   "outputs": [],
   "source": [
    "# Zahlen\n",
    "x = 1\n",
    "\n",
    "# Text (wird mit Anführungszeichen geschrieben)\n",
    "text = 'Hallo'\n",
    "\n",
    "# Listen\n",
    "liste = [1,7,5,8]"
   ]
  },
  {
   "cell_type": "markdown",
   "id": "6ffa9eff",
   "metadata": {},
   "source": [
    "<div class='alert alert-success'>\n",
    "    <b>Tipp</b>: Falls ihr euch nicht mehr sicher seid was hinter eine Variablen steckt, könnte ihr sie euch mit ```print(x)``` anschauen.\n",
    "</div>"
   ]
  },
  {
   "cell_type": "markdown",
   "id": "2309d4ec",
   "metadata": {},
   "source": [
    "### Funktionen"
   ]
  },
  {
   "cell_type": "code",
   "execution_count": 7,
   "id": "d463d8e0",
   "metadata": {},
   "outputs": [],
   "source": [
    "def zähle_buchstaben(text):\n",
    "    '''\n",
    "    Die Funktion zeigt einen Text.\n",
    "    @param text: Text, der ausgeprintet wird\n",
    "    '''\n",
    "    print('Wort:', text, 'Anzahl Buchstaben:', len(text))"
   ]
  },
  {
   "cell_type": "code",
   "execution_count": 8,
   "id": "60dfcb4a",
   "metadata": {},
   "outputs": [
    {
     "name": "stdout",
     "output_type": "stream",
     "text": [
      "Wort: Hallo Anzahl Buchstaben: 5\n"
     ]
    }
   ],
   "source": [
    "zähle_buchstaben('ExperiWatt')"
   ]
  },
  {
   "cell_type": "markdown",
   "id": "47702c14",
   "metadata": {},
   "source": [
    "Falls ihr nicht wisst was eine Funktion tut, kann die "
   ]
  },
  {
   "cell_type": "code",
   "execution_count": null,
   "id": "fa59a06f",
   "metadata": {},
   "outputs": [],
   "source": [
    "help(zähle_buchstaben)"
   ]
  },
  {
   "cell_type": "code",
   "execution_count": null,
   "id": "c88e055f",
   "metadata": {},
   "outputs": [],
   "source": [
    "def lineare_gleichung(x, y):  \n",
    "    \"\"\" \n",
    "    Die Funktion berechnet die Summe zweier Eingabe-Objekte\n",
    "    @param x: erster Summand\n",
    "    @param y: zweiter Summand\n",
    "    @return: Summe der Eingabewerte\n",
    "    \"\"\"\n",
    "\n",
    "    \n",
    "    print(f'Das Ergebnis ist:{}')\n",
    "    return x + y"
   ]
  },
  {
   "cell_type": "markdown",
   "id": "caf484be",
   "metadata": {},
   "source": [
    "Quellen:\n",
    "- https://www.elab2go.de/demo-py1/\n"
   ]
  }
 ],
 "metadata": {
  "kernelspec": {
   "display_name": "Python 3 (ipykernel)",
   "language": "python",
   "name": "python3"
  },
  "language_info": {
   "codemirror_mode": {
    "name": "ipython",
    "version": 3
   },
   "file_extension": ".py",
   "mimetype": "text/x-python",
   "name": "python",
   "nbconvert_exporter": "python",
   "pygments_lexer": "ipython3",
   "version": "3.9.12"
  }
 },
 "nbformat": 4,
 "nbformat_minor": 5
}
