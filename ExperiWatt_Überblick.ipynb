{
 "cells": [
  {
   "cell_type": "markdown",
   "id": "dd539b88",
   "metadata": {},
   "source": [
    "Gliederung:\n",
    "1) EEG Daten laden\n",
    "\n",
    "2) Elektroden Montage Mapping \n",
    "\n",
    "3) Daten Betrachtung\n",
    "\n",
    "4) Frequenz Stärken Spektrum\n",
    "\n",
    "5) Preprocessing (Säubern der Daten)"
   ]
  }
 ],
 "metadata": {
  "kernelspec": {
   "display_name": "Python 3 (ipykernel)",
   "language": "python",
   "name": "python3"
  },
  "language_info": {
   "codemirror_mode": {
    "name": "ipython",
    "version": 3
   },
   "file_extension": ".py",
   "mimetype": "text/x-python",
   "name": "python",
   "nbconvert_exporter": "python",
   "pygments_lexer": "ipython3",
   "version": "3.9.12"
  }
 },
 "nbformat": 4,
 "nbformat_minor": 5
}
