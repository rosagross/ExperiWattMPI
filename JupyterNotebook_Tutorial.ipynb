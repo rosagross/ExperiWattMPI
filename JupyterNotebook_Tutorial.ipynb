{
 "cells": [
  {
   "cell_type": "markdown",
   "id": "cc8f77f5",
   "metadata": {},
   "source": [
    "### Was ist ein Jupyter Notebook?\n",
    "In einem Jupyter Notebook kann man Code in der Programmiersprache Python schreiben und ausführen, sowie Daten visualisieren. \n",
    "Das Besondere an Jupyter Notebook ist, dass der Code und die Beschreibung des Codes in unabhängige Zellen geschrieben werden, so dass einzelne Codeblöcke individuell ausgeführt werden können. \n",
    "Es gibt also zwei verschiedene Arten von Zellen:\n",
    "- Code Zellen\n",
    "- Beschreibungszellen (\"Markdown\"-Zellen)"
   ]
  },
  {
   "cell_type": "code",
   "execution_count": 1,
   "id": "1433898e",
   "metadata": {},
   "outputs": [
    {
     "name": "stdout",
     "output_type": "stream",
     "text": [
      "ExperiWatt!\n"
     ]
    }
   ],
   "source": [
    "print('ExperiWatt!')"
   ]
  },
  {
   "cell_type": "markdown",
   "id": "1e37b6c1",
   "metadata": {},
   "source": [
    "Kommentare starten mit einem \"#\", wie zum Beispiel so:"
   ]
  },
  {
   "cell_type": "code",
   "execution_count": 22,
   "id": "f0800bcb",
   "metadata": {},
   "outputs": [],
   "source": [
    "# Dies ist ein Kommentar"
   ]
  },
  {
   "cell_type": "markdown",
   "id": "06f8ddcb",
   "metadata": {},
   "source": [
    "### Daten typen\n"
   ]
  },
  {
   "cell_type": "code",
   "execution_count": 20,
   "id": "b68209e2",
   "metadata": {},
   "outputs": [],
   "source": [
    "# Zahlen\n",
    "x = 1\n",
    "\n",
    "# Text (wird mit Anführungszeichen geschrieben)\n",
    "text = 'Hallo'\n",
    "elektroden_namen = 'Fz'\n",
    "\n",
    "# Listen\n",
    "liste = [1,7,5,8]\n",
    "elektroden_sammlung = ['Fz', 'P1', 'T10']"
   ]
  },
  {
   "cell_type": "markdown",
   "id": "72aa464e",
   "metadata": {},
   "source": [
    "<div class='alert alert-success'>\n",
    "    <b>Tipp</b>: Falls ihr euch nicht mehr sicher seid was hinter eine Variablen steckt, könnte ihr sie euch mit \"print(x)\" anschauen.\n",
    "</div>"
   ]
  },
  {
   "cell_type": "code",
   "execution_count": 21,
   "id": "a5d84015",
   "metadata": {},
   "outputs": [
    {
     "name": "stdout",
     "output_type": "stream",
     "text": [
      "1\n",
      "Hallo\n",
      "['Fz', 'P1', 'T10']\n"
     ]
    }
   ],
   "source": [
    "print(x)\n",
    "print(text)\n",
    "print(elektroden_sammlung)"
   ]
  },
  {
   "cell_type": "markdown",
   "id": "f8f32cf0",
   "metadata": {},
   "source": [
    "### Funktionen"
   ]
  },
  {
   "cell_type": "code",
   "execution_count": 16,
   "id": "6ff94653",
   "metadata": {},
   "outputs": [],
   "source": [
    "def zähle_buchstaben(text):\n",
    "    '''\n",
    "    Die Funktion zeigt einen Text.\n",
    "    @param text: Text, der ausgeprintet wird\n",
    "    '''\n",
    "    print('Wort:', text, '\\nAnzahl Buchstaben:', len(text))"
   ]
  },
  {
   "cell_type": "code",
   "execution_count": 17,
   "id": "490a5eb8",
   "metadata": {},
   "outputs": [
    {
     "name": "stdout",
     "output_type": "stream",
     "text": [
      "Wort: ExperiWatt \n",
      "Anzahl Buchstaben: 10\n"
     ]
    }
   ],
   "source": [
    "zähle_buchstaben('ExperiWatt')"
   ]
  },
  {
   "cell_type": "markdown",
   "id": "17d52364",
   "metadata": {},
   "source": [
    "Falls ihr nicht genau wisst was eine Funktion tut, kann die help() Funktion euch weiterhelfen. Sie zeigt an was die Funktion bewirkt und welche Parameter ihr eingeben müsst."
   ]
  },
  {
   "cell_type": "code",
   "execution_count": 18,
   "id": "48e62973",
   "metadata": {},
   "outputs": [
    {
     "name": "stdout",
     "output_type": "stream",
     "text": [
      "Help on function zähle_buchstaben in module __main__:\n",
      "\n",
      "zähle_buchstaben(text)\n",
      "    Die Funktion zeigt einen Text.\n",
      "    @param text: Text, der ausgeprintet wird\n",
      "\n"
     ]
    }
   ],
   "source": [
    "help(zähle_buchstaben)"
   ]
  },
  {
   "cell_type": "code",
   "execution_count": null,
   "id": "430ce403",
   "metadata": {},
   "outputs": [],
   "source": [
    "def lineare_gleichung(x, y):  \n",
    "    \"\"\" \n",
    "    Die Funktion berechnet die Summe zweier Eingabe-Objekte\n",
    "    @param x: erster Summand\n",
    "    @param y: zweiter Summand\n",
    "    @return: Summe der Eingabewerte\n",
    "    \"\"\"\n",
    "\n",
    "    \n",
    "    print(f'Das Ergebnis ist:{}')\n",
    "    return x + y"
   ]
  },
  {
   "cell_type": "markdown",
   "id": "5886f5d5",
   "metadata": {},
   "source": [
    "Quellen:\n",
    "- https://www.elab2go.de/demo-py1/\n"
   ]
  }
 ],
 "metadata": {
  "kernelspec": {
   "display_name": "Python 3 (ipykernel)",
   "language": "python",
   "name": "python3"
  },
  "language_info": {
   "codemirror_mode": {
    "name": "ipython",
    "version": 3
   },
   "file_extension": ".py",
   "mimetype": "text/x-python",
   "name": "python",
   "nbconvert_exporter": "python",
   "pygments_lexer": "ipython3",
   "version": "3.9.12"
  }
 },
 "nbformat": 4,
 "nbformat_minor": 5
}
